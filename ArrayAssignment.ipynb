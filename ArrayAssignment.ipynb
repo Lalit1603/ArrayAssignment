{
 "cells": [
  {
   "cell_type": "raw",
   "id": "be20105f-f741-4632-9b82-61851cf6ee29",
   "metadata": {},
   "source": [
    "1. Given an array, check if it contains any duplicates or not. \n",
    " arr = [1, 2, 4, 2, 5, 9] \n",
    "Output = True"
   ]
  },
  {
   "cell_type": "code",
   "execution_count": 1,
   "id": "51f74b16-7949-4c39-a2cd-371dcadaf5c3",
   "metadata": {},
   "outputs": [
    {
     "data": {
      "text/plain": [
       "True"
      ]
     },
     "execution_count": 1,
     "metadata": {},
     "output_type": "execute_result"
    }
   ],
   "source": [
    "def checkDuplicate(arr):\n",
    "    n=len(arr)\n",
    "    for i in range(n):\n",
    "        for j in range(i+1,n):\n",
    "            if arr[i] == arr[j]:\n",
    "                return True\n",
    "    return False \n",
    "    \n",
    "#function calling\n",
    "arr=[1,2,3,4,5,1]\n",
    "checkDuplicate(arr)"
   ]
  },
  {
   "cell_type": "raw",
   "id": "6c0ec61b-1922-4e4e-8c32-df5eca5fcaf3",
   "metadata": {},
   "source": [
    " 2. Given an array and an integer k, rotate the array to the right by k steps. \n",
    "arr = [1, 2, 3, 4, 5, 6, 7] k = 3 \n",
    "Output = [5, 6, 7, 1, 2, 3, 4]"
   ]
  },
  {
   "cell_type": "code",
   "execution_count": 2,
   "id": "073d65d4-8f4c-4b1e-9c21-3fd39f948ec2",
   "metadata": {},
   "outputs": [
    {
     "data": {
      "text/plain": [
       "[55, 66, 77, 11, 22, 33, 44]"
      ]
     },
     "execution_count": 2,
     "metadata": {},
     "output_type": "execute_result"
    }
   ],
   "source": [
    "def rotateArray(arr,k):\n",
    "    n=len(arr)\n",
    "    k=k%n\n",
    "    rotatedArrayis=arr[-k:] + arr[:-k]\n",
    "    return rotatedArrayis\n",
    "    \n",
    "#function calling    \n",
    "arr=[11,22,33,44,55,66,77]\n",
    "k=3\n",
    "rotateArray(arr,k)"
   ]
  },
  {
   "cell_type": "raw",
   "id": "52adbd6c-c92b-471e-83e2-854b0c3e921b",
   "metadata": {},
   "source": [
    " 3. Reverse the given array in-place, means without using any extra data structure. \n",
    "arr = [2, 4, 5, 7, 9, 12] \n",
    "Output = [12, 9, 7, 5, 4, 2]"
   ]
  },
  {
   "cell_type": "code",
   "execution_count": 3,
   "id": "d569f50b-c6ea-468d-bab7-14b570f77eac",
   "metadata": {},
   "outputs": [
    {
     "name": "stdout",
     "output_type": "stream",
     "text": [
      "[18, 15, 12, 9, 6, 3]\n"
     ]
    }
   ],
   "source": [
    "def reverseArr(arr):\n",
    "    n = len(arr)\n",
    "    m = n // 2  \n",
    "\n",
    "    for i in range(m):\n",
    "        \n",
    "        arr[i], arr[n - 1 - i] = arr[n - 1 - i], arr[i]\n",
    "\n",
    "#function calling\n",
    "arr = [3, 6, 9, 12, 15, 18]\n",
    "reverseArr(arr)\n",
    "print(arr)\n"
   ]
  },
  {
   "cell_type": "raw",
   "id": "a0152cf8-2d50-4f22-a4b3-f417f90b61b3",
   "metadata": {},
   "source": [
    " 4. Given an array of integers, find the maximum element in an array\n",
    " arr = [10, 5, 20, 8, 15]\n",
    " Output = 20"
   ]
  },
  {
   "cell_type": "code",
   "execution_count": 4,
   "id": "2788f753-fd9f-492b-93c9-7273f248b992",
   "metadata": {},
   "outputs": [
    {
     "data": {
      "text/plain": [
       "100"
      ]
     },
     "execution_count": 4,
     "metadata": {},
     "output_type": "execute_result"
    }
   ],
   "source": [
    "def findMax(arr):\n",
    "    n=len(arr)\n",
    "    max_element = arr[0] \n",
    "    \n",
    "    for i in range(1,n):\n",
    "        if arr[i] > max_element:\n",
    "            max_element = arr[i]\n",
    "            \n",
    "\n",
    "    return max_element\n",
    "\n",
    "\n",
    "    \n",
    "arr=[0,5,10,30,15,25,20,100]\n",
    "findMax(arr)"
   ]
  },
  {
   "cell_type": "raw",
   "id": "9c5c7792-4253-41db-bfd1-1b1df32bb731",
   "metadata": {},
   "source": [
    "5. Given a sorted array, remove the duplicate element without using any extra data structure. \n",
    "arr = [1, 1, 2, 2, 2, 3, 3, 4, 4, 4, 5, 5] \n",
    "Output = [1, 2, 3, 4, 5]"
   ]
  },
  {
   "cell_type": "code",
   "execution_count": null,
   "id": "a82ca426-770e-434f-ae18-de6b7eeb88a6",
   "metadata": {},
   "outputs": [
    {
     "name": "stdout",
     "output_type": "stream",
     "text": [
      "Array with duplicates removed: [1, 2, 3, 4, 5]\n"
     ]
    }
   ],
   "source": [
    "def removeDuplicates(arr):\n",
    "\n",
    "    unique_index = 0\n",
    "\n",
    "    for i in range(1, len(arr)):\n",
    "        if arr[i] != arr[unique_index]:\n",
    "            unique_index += 1\n",
    "            arr[unique_index] = arr[i]\n",
    "\n",
    "    return arr[:unique_index + 1]\n",
    "\n",
    "#function calling\n",
    "arr = [1, 1, 2, 2, 2, 3, 3, 4, 4, 4, 5, 5]\n",
    "result = removeDuplicates(arr)\n",
    "print(\"Array with duplicates removed:\", result)\n"
   ]
  },
  {
   "cell_type": "code",
   "execution_count": null,
   "id": "bd03fbd5-6a15-495f-a267-871c06fe76fc",
   "metadata": {},
   "outputs": [],
   "source": []
  }
 ],
 "metadata": {
  "kernelspec": {
   "display_name": "Python 3 (ipykernel)",
   "language": "python",
   "name": "python3"
  },
  "language_info": {
   "codemirror_mode": {
    "name": "ipython",
    "version": 3
   },
   "file_extension": ".py",
   "mimetype": "text/x-python",
   "name": "python",
   "nbconvert_exporter": "python",
   "pygments_lexer": "ipython3",
   "version": "3.10.8"
  }
 },
 "nbformat": 4,
 "nbformat_minor": 5
}
